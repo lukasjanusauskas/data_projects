{
 "cells": [
  {
   "cell_type": "code",
   "execution_count": 1,
   "metadata": {},
   "outputs": [
    {
     "name": "stdout",
     "output_type": "stream",
     "text": [
      "Requirement already satisfied: matplotlib in /opt/conda/lib/python3.11/site-packages (3.8.0)\n",
      "Requirement already satisfied: seaborn in /opt/conda/lib/python3.11/site-packages (0.13.0)\n",
      "Requirement already satisfied: wordcloud in /opt/conda/lib/python3.11/site-packages (1.9.4)\n",
      "Requirement already satisfied: contourpy>=1.0.1 in /opt/conda/lib/python3.11/site-packages (from matplotlib) (1.1.1)\n",
      "Requirement already satisfied: cycler>=0.10 in /opt/conda/lib/python3.11/site-packages (from matplotlib) (0.12.1)\n",
      "Requirement already satisfied: fonttools>=4.22.0 in /opt/conda/lib/python3.11/site-packages (from matplotlib) (4.43.1)\n",
      "Requirement already satisfied: kiwisolver>=1.0.1 in /opt/conda/lib/python3.11/site-packages (from matplotlib) (1.4.5)\n",
      "Requirement already satisfied: numpy<2,>=1.21 in /opt/conda/lib/python3.11/site-packages (from matplotlib) (1.24.4)\n",
      "Requirement already satisfied: packaging>=20.0 in /opt/conda/lib/python3.11/site-packages (from matplotlib) (23.2)\n",
      "Requirement already satisfied: pillow>=6.2.0 in /opt/conda/lib/python3.11/site-packages (from matplotlib) (10.1.0)\n",
      "Requirement already satisfied: pyparsing>=2.3.1 in /opt/conda/lib/python3.11/site-packages (from matplotlib) (3.1.1)\n",
      "Requirement already satisfied: python-dateutil>=2.7 in /opt/conda/lib/python3.11/site-packages (from matplotlib) (2.8.2)\n",
      "Requirement already satisfied: pandas>=1.2 in /opt/conda/lib/python3.11/site-packages (from seaborn) (2.0.3)\n",
      "Requirement already satisfied: pytz>=2020.1 in /opt/conda/lib/python3.11/site-packages (from pandas>=1.2->seaborn) (2023.3.post1)\n",
      "Requirement already satisfied: tzdata>=2022.1 in /opt/conda/lib/python3.11/site-packages (from pandas>=1.2->seaborn) (2023.3)\n",
      "Requirement already satisfied: six>=1.5 in /opt/conda/lib/python3.11/site-packages (from python-dateutil>=2.7->matplotlib) (1.16.0)\n"
     ]
    }
   ],
   "source": [
    "!pip install matplotlib seaborn wordcloud"
   ]
  },
  {
   "cell_type": "code",
   "execution_count": 2,
   "metadata": {},
   "outputs": [],
   "source": [
    "import matplotlib.pyplot as plt\n",
    "import seaborn as sns\n",
    "import pandas as pd"
   ]
  },
  {
   "cell_type": "code",
   "execution_count": 3,
   "metadata": {},
   "outputs": [],
   "source": [
    "sns.set_style('dark')"
   ]
  },
  {
   "cell_type": "markdown",
   "metadata": {},
   "source": [
    "# Spark intialization"
   ]
  },
  {
   "cell_type": "code",
   "execution_count": 4,
   "metadata": {
    "vscode": {
     "languageId": "plaintext"
    }
   },
   "outputs": [],
   "source": [
    "from pyspark.sql import SparkSession\n",
    "from pyspark.sql.functions import *"
   ]
  },
  {
   "cell_type": "code",
   "execution_count": 5,
   "metadata": {},
   "outputs": [],
   "source": [
    "spark = SparkSession.builder\\\n",
    "    .appName('main-app-linked')\\\n",
    "    .getOrCreate()"
   ]
  },
  {
   "cell_type": "markdown",
   "metadata": {},
   "source": [
    "# Data preparation"
   ]
  },
  {
   "cell_type": "markdown",
   "metadata": {},
   "source": [
    "### While for skills and summaries you can do with strings, you neeed to parse dates and timestamps"
   ]
  },
  {
   "cell_type": "code",
   "execution_count": 6,
   "metadata": {},
   "outputs": [],
   "source": [
    "skills = spark.read\\\n",
    "    .option('header', 'True')\\\n",
    "    .csv('data/job_skills.csv')\n",
    "\n",
    "summaries = spark.read\\\n",
    "    .option('header', 'True')\\\n",
    "    .csv('data/job_summary.csv')\n",
    "\n",
    "postings = spark.read\\\n",
    "    .option('header', 'True')\\\n",
    "    .option('inferSchema', 'True')\\\n",
    "    .csv('data/linkedin_job_postings.csv')"
   ]
  },
  {
   "cell_type": "code",
   "execution_count": 7,
   "metadata": {},
   "outputs": [
    {
     "name": "stdout",
     "output_type": "stream",
     "text": [
      "root\n",
      " |-- job_link: string (nullable = true)\n",
      " |-- job_skills: string (nullable = true)\n",
      "\n"
     ]
    }
   ],
   "source": [
    "skills.printSchema()"
   ]
  },
  {
   "cell_type": "code",
   "execution_count": 8,
   "metadata": {},
   "outputs": [
    {
     "name": "stdout",
     "output_type": "stream",
     "text": [
      "root\n",
      " |-- job_link: string (nullable = true)\n",
      " |-- job_summary: string (nullable = true)\n",
      "\n"
     ]
    }
   ],
   "source": [
    "summaries.printSchema()"
   ]
  },
  {
   "cell_type": "code",
   "execution_count": 9,
   "metadata": {},
   "outputs": [
    {
     "name": "stdout",
     "output_type": "stream",
     "text": [
      "root\n",
      " |-- job_link: string (nullable = true)\n",
      " |-- last_processed_time: string (nullable = true)\n",
      " |-- got_summary: string (nullable = true)\n",
      " |-- got_ner: string (nullable = true)\n",
      " |-- is_being_worked: string (nullable = true)\n",
      " |-- job_title: string (nullable = true)\n",
      " |-- company: string (nullable = true)\n",
      " |-- job_location: string (nullable = true)\n",
      " |-- first_seen: string (nullable = true)\n",
      " |-- search_city: string (nullable = true)\n",
      " |-- search_country: string (nullable = true)\n",
      " |-- search_position: string (nullable = true)\n",
      " |-- job_level: string (nullable = true)\n",
      " |-- job_type: string (nullable = true)\n",
      "\n"
     ]
    }
   ],
   "source": [
    "postings.printSchema()"
   ]
  },
  {
   "cell_type": "code",
   "execution_count": 10,
   "metadata": {},
   "outputs": [
    {
     "name": "stdout",
     "output_type": "stream",
     "text": [
      "+----------+-------------------+-----------+-------+---------------+----------+----------+------------+----------+-----------+--------------+---------------+----------+--------+\n",
      "|  job_link|last_processed_time|got_summary|got_ner|is_being_worked| job_title|   company|job_location|first_seen|search_city|search_country|search_position| job_level|job_type|\n",
      "+----------+-------------------+-----------+-------+---------------+----------+----------+------------+----------+-----------+--------------+---------------+----------+--------+\n",
      "|https:/...|         2024-01...|          t|      t|              f|Account...|        BD|  San Die...|2024-01-15|   Coronado|    United ...|     Color M...|Mid senior|  Onsite|\n",
      "|https:/...|         2024-01...|          t|      t|              f|Registe...|Trinity...|  Norton ...|2024-01-14| Grand H...|    United ...|     Directo...|Mid senior|  Onsite|\n",
      "|https:/...|         2024-01...|          t|      t|              f|RESTAUR...|Wasatch...|   Sandy, UT|2024-01-14|     Tooele|    United ...|       Stand-In|Mid senior|  Onsite|\n",
      "|https:/...|         2024-01...|          t|      t|              f|Indepen...|Howard ...|  Englewo...|2024-01-16|  Pinehurst|    United ...|     Real-Es...|Mid senior|  Onsite|\n",
      "|https:/...|         2024-01...|          f|      f|              f|Group/U...|IRS, Of...|  Chamble...|2024-01-17|    Gadsden|    United ...|     Supervi...|Mid senior|  Onsite|\n",
      "+----------+-------------------+-----------+-------+---------------+----------+----------+------------+----------+-----------+--------------+---------------+----------+--------+\n",
      "only showing top 5 rows\n",
      "\n"
     ]
    }
   ],
   "source": [
    "postings.show(5, truncate=10)"
   ]
  },
  {
   "cell_type": "markdown",
   "metadata": {},
   "source": [
    "### Infering schema did not work for postings, we possibly need to clean the data"
   ]
  },
  {
   "cell_type": "code",
   "execution_count": 11,
   "metadata": {},
   "outputs": [],
   "source": [
    "def transform_time_postings(postings): \n",
    "    return postings.withColumn('first_seen', \n",
    "                        to_date(col('first_seen'),'yyyy-MM-dd'))\\\n",
    "            .withColumn('last_processed_time',\n",
    "                        to_timestamp(col('last_processed_time')))"
   ]
  },
  {
   "cell_type": "code",
   "execution_count": 12,
   "metadata": {},
   "outputs": [],
   "source": [
    "def transform_booleans_postings(postings):\n",
    "    return postings.withColumn('got_summary',\n",
    "                               col('got_summary') == 't')\\\n",
    "                    .withColumn('got_ner',\n",
    "                                col('got_summary') == 't')\\\n",
    "                    .withColumn('is_being_worked',\n",
    "                                col('is_being_worked') == 't')"
   ]
  },
  {
   "cell_type": "code",
   "execution_count": 13,
   "metadata": {},
   "outputs": [],
   "source": [
    "postings = postings.transform(transform_time_postings)\\\n",
    "                   .transform(transform_booleans_postings)"
   ]
  },
  {
   "cell_type": "markdown",
   "metadata": {},
   "source": [
    "### Since the data is not being prepared for long time analytics or ML, I will not factorize `job_level` and `job_type` columns, but in those scenarios this should be done to use less space and pre-prepare data for ML"
   ]
  },
  {
   "cell_type": "markdown",
   "metadata": {},
   "source": [
    "### There was a problem reading the summaries csv with Spark"
   ]
  },
  {
   "cell_type": "code",
   "execution_count": 14,
   "metadata": {},
   "outputs": [
    {
     "name": "stdout",
     "output_type": "stream",
     "text": [
      "+--------------------------------------------------+--------------------------------------------------+\n",
      "|                                          job_link|                                       job_summary|\n",
      "+--------------------------------------------------+--------------------------------------------------+\n",
      "|https://www.linkedin.com/jobs/view/restaurant-m...|Rock N Roll Sushi is hiring a Restaurant Manage...|\n",
      "|https://www.linkedin.com/jobs/view/med-surg-reg...|Schedule\\n: PRN is required minimum 12 hours pe...|\n",
      "|https://www.linkedin.com/jobs/view/registered-n...|Description\\nIntroduction\\nAre you looking for ...|\n",
      "|https://uk.linkedin.com/jobs/view/commercial-ac...|Commercial account executive\\nSheffield\\nFull t...|\n",
      "|https://www.linkedin.com/jobs/view/store-manage...|Address:\\nUSA-CT-Newington-44 Fenn Road\\nStore ...|\n",
      "+--------------------------------------------------+--------------------------------------------------+\n",
      "only showing top 5 rows\n",
      "\n"
     ]
    }
   ],
   "source": [
    "summaries = spark.read\\\n",
    "    .option('header', 'True')\\\n",
    "    .option('multiline', 'true')\\\n",
    "    .option(\"quote\", \"\\\"\")\\\n",
    "    .option(\"escape\", \"\\\"\")\\\n",
    "    .csv('data/job_summary.csv')\n",
    "\n",
    "summaries.show(5, truncate=50)"
   ]
  },
  {
   "cell_type": "markdown",
   "metadata": {},
   "source": [
    "### I have to be sure, that the data is in correct format with regex: `job_link` should start with http:// or https:// or a URL (optional characters).linkedin.com"
   ]
  },
  {
   "cell_type": "code",
   "execution_count": 15,
   "metadata": {},
   "outputs": [],
   "source": [
    "# Run this to make sure, that the format is correct(didn't break later)\n",
    "# summaries.filter(~col('job_link').rlike(r'(http(s)?://)?\\w+\\.linkedin.*')).show(5)"
   ]
  },
  {
   "cell_type": "markdown",
   "metadata": {},
   "source": [
    "### Now, for `skills` DataFrame I can also expore the number of skills and, If the biggest number isn't to big: turn it into an ArrayType or a UserDefinedType(a set esssentially)"
   ]
  },
  {
   "cell_type": "code",
   "execution_count": 16,
   "metadata": {},
   "outputs": [
    {
     "name": "stdout",
     "output_type": "stream",
     "text": [
      "+----------------------------------------------------------------------------------------------------+----------------------------------------------------------------------------------------------------+\n",
      "|                                                                                            job_link|                                                                                          job_skills|\n",
      "+----------------------------------------------------------------------------------------------------+----------------------------------------------------------------------------------------------------+\n",
      "|     https://www.linkedin.com/jobs/view/housekeeper-i-pt-at-jacksonville-state-university-3802280436|Building Custodial Services, Cleaning, Janitorial Services, Materials Handling, Housekeeping, San...|\n",
      "|https://www.linkedin.com/jobs/view/assistant-general-manager-huntington-4131-at-ruby-tuesday-3575...|Customer service, Restaurant management, Food safety, Training, Supervision, Scheduling, Inventor...|\n",
      "|https://www.linkedin.com/jobs/view/school-based-behavior-analyst-at-ccres-educational-and-behavio...|Applied Behavior Analysis (ABA), Data analysis, Behavioral assessment, Positive behavior support,...|\n",
      "|https://www.linkedin.com/jobs/view/electrical-deputy-engineering-group-supervisor-at-energy-jobli...|Electrical Engineering, Project Controls, Scheduling, Estimating, Engineering Efforts, Planning, ...|\n",
      "|                   https://www.linkedin.com/jobs/view/electrical-assembly-lead-at-sanmina-3704300377|Electrical Assembly, Point to point wiring, Stripping and crimping of wiring, Reading blueprints ...|\n",
      "+----------------------------------------------------------------------------------------------------+----------------------------------------------------------------------------------------------------+\n",
      "only showing top 5 rows\n",
      "\n"
     ]
    }
   ],
   "source": [
    "skills.show(5, truncate=100)"
   ]
  },
  {
   "cell_type": "code",
   "execution_count": 17,
   "metadata": {},
   "outputs": [
    {
     "data": {
      "text/plain": [
       "[Row(max(num_skills)=462)]"
      ]
     },
     "execution_count": 17,
     "metadata": {},
     "output_type": "execute_result"
    }
   ],
   "source": [
    "skills.withColumn('num_skills', \n",
    "                  length('job_skills') - length(replace('job_skills', lit(','), lit('')))) \\\n",
    "    .select(max('num_skills'))\\\n",
    "    .collect()"
   ]
  },
  {
   "cell_type": "markdown",
   "metadata": {},
   "source": [
    "### Because of the massive amount of skills that are listed in some cases, we cannot turn `job_skills` into an array without additional work. I will take the first 200 (20 chars/per skills * 10 skills) characters from the `job_skills` column and convert them into  string arrays."
   ]
  },
  {
   "cell_type": "code",
   "execution_count": 18,
   "metadata": {},
   "outputs": [
    {
     "name": "stdout",
     "output_type": "stream",
     "text": [
      "+--------------------------------------------------------------------------------------------------------------------------------------------------------------------------------------------------------+\n",
      "|                                                                                                                                                             split(substring(job_skills, 0, 200), ,, -1)|\n",
      "+--------------------------------------------------------------------------------------------------------------------------------------------------------------------------------------------------------+\n",
      "|[Building Custodial Services,  Cleaning,  Janitorial Services,  Materials Handling,  Housekeeping,  Sanitation,  Waste Management,  Floor Maintenance,  Equipment Maintenance,  Safety Protocols,  Co...|\n",
      "|[Customer service,  Restaurant management,  Food safety,  Training,  Supervision,  Scheduling,  Inventory,  Cost control,  Sales,  Communication,  Problemsolving,  Leadership,  Motivation,  Teamwor...|\n",
      "|[Applied Behavior Analysis (ABA),  Data analysis,  Behavioral assessment,  Positive behavior support,  Programming development,  Progress monitoring,  Staff training,  Verbal communication,  Writte...|\n",
      "|[Electrical Engineering,  Project Controls,  Scheduling,  Estimating,  Engineering Efforts,  Planning,  Work Packaging,  Communication Skills,  Verbal Communication,  Written Communication,  Engine...|\n",
      "|[Electrical Assembly,  Point to point wiring,  Stripping and crimping of wiring,  Reading blueprints and SOPs,  Leadership skills,  Communication skills,  Directing and training employees,  Problem...|\n",
      "+--------------------------------------------------------------------------------------------------------------------------------------------------------------------------------------------------------+\n",
      "only showing top 5 rows\n",
      "\n"
     ]
    }
   ],
   "source": [
    "skills.select(split(\n",
    "    substring('job_skills', 0, 200), ','))\\\n",
    "    .show(5, truncate=200)"
   ]
  },
  {
   "cell_type": "code",
   "execution_count": 19,
   "metadata": {},
   "outputs": [
    {
     "data": {
      "text/plain": [
       "[Row(max(n_top_skills)=30, min(n_top_skills)=-1, avg(n_top_skills)=11.04446378032384)]"
      ]
     },
     "execution_count": 19,
     "metadata": {},
     "output_type": "execute_result"
    }
   ],
   "source": [
    "skills.withColumn('n_top_skills', size(split(\n",
    "    substring('job_skills', 0, 200), ',')))\\\n",
    "    .select(max(col('n_top_skills')), min(col('n_top_skills')), avg(col('n_top_skills')))\\\n",
    "    .collect()"
   ]
  },
  {
   "cell_type": "code",
   "execution_count": 20,
   "metadata": {},
   "outputs": [],
   "source": [
    "skills = skills.withColumn('job_skills', split(\n",
    "    substring('job_skills', 0, 200), ','))"
   ]
  },
  {
   "cell_type": "markdown",
   "metadata": {},
   "source": [
    "### Another data preparation step is to fix the foreign keys by indexing `job_link`s, since this column is primary and foreign keys for all dataframes."
   ]
  },
  {
   "cell_type": "code",
   "execution_count": 21,
   "metadata": {},
   "outputs": [],
   "source": [
    "def hash_links(df):\n",
    "    return df.withColumn('link_hashed',\n",
    "                         xxhash64('job_link'))"
   ]
  },
  {
   "cell_type": "code",
   "execution_count": 22,
   "metadata": {},
   "outputs": [],
   "source": [
    "skills = skills.transform(hash_links)\n",
    "summaries = summaries.transform(hash_links)\n",
    "postings = postings.transform(hash_links)"
   ]
  },
  {
   "cell_type": "markdown",
   "metadata": {},
   "source": [
    "# Data analysis"
   ]
  },
  {
   "cell_type": "code",
   "execution_count": 23,
   "metadata": {},
   "outputs": [
    {
     "data": {
      "text/plain": [
       "[Row(min(last_processed_time)=datetime.datetime(2024, 1, 19, 9, 45, 9, 215838), max(last_processed_time)=datetime.datetime(2024, 1, 21, 17, 37, 21, 80491))]"
      ]
     },
     "execution_count": 23,
     "metadata": {},
     "output_type": "execute_result"
    }
   ],
   "source": [
    "postings.select(min('last_processed_time'), \n",
    "                max('last_processed_time')).collect()"
   ]
  },
  {
   "cell_type": "code",
   "execution_count": 24,
   "metadata": {},
   "outputs": [
    {
     "name": "stdout",
     "output_type": "stream",
     "text": [
      "root\n",
      " |-- job_link: string (nullable = true)\n",
      " |-- last_processed_time: timestamp (nullable = true)\n",
      " |-- got_summary: boolean (nullable = true)\n",
      " |-- got_ner: boolean (nullable = true)\n",
      " |-- is_being_worked: boolean (nullable = true)\n",
      " |-- job_title: string (nullable = true)\n",
      " |-- company: string (nullable = true)\n",
      " |-- job_location: string (nullable = true)\n",
      " |-- first_seen: date (nullable = true)\n",
      " |-- search_city: string (nullable = true)\n",
      " |-- search_country: string (nullable = true)\n",
      " |-- search_position: string (nullable = true)\n",
      " |-- job_level: string (nullable = true)\n",
      " |-- job_type: string (nullable = true)\n",
      " |-- link_hashed: long (nullable = false)\n",
      "\n"
     ]
    }
   ],
   "source": [
    "postings.printSchema()"
   ]
  },
  {
   "cell_type": "markdown",
   "metadata": {},
   "source": [
    "## Goal: Ascertain the requirements of data job positions throught the world and different levels(junior, mid, mid senior, senior)\n",
    "\n",
    "### Pre-processing tasks:\n",
    "- Get the names of data jobs (data scientist, data engineer) for further analysis\n",
    "\n",
    "### Aggregation tasks(for data tasks):\n",
    "- Get the number of postings on different levels(junior, mid, etc.) and, if needed normalize them\n",
    "- Get the most wanted skills by data position.\n",
    "- Get the most used words(by tfidf value) in the summaries."
   ]
  },
  {
   "cell_type": "code",
   "execution_count": 25,
   "metadata": {},
   "outputs": [
    {
     "name": "stdout",
     "output_type": "stream",
     "text": [
      "+---------------------------------------------------------------------------+\n",
      "|                                                                  job_title|\n",
      "+---------------------------------------------------------------------------+\n",
      "|                Senior Manager of Software Engineering - Data Modernization|\n",
      "|            Database Management Associate - Level 4 with Security Clearance|\n",
      "|                                       Senior ETL Data Warehouse Specialist|\n",
      "|                                Senior Data Warehouse Developer / Architect|\n",
      "|          Senior Lead Engineer- Generative AI Engineering (Remote-Eligible)|\n",
      "|                                                         Lead Data Engineer|\n",
      "|                                                       Senior Data Engineer|\n",
      "|                   Principal Associate, Data Loss Prevention (DLP) Engineer|\n",
      "|                                            Senior External Data Specialist|\n",
      "|                                                      Principal AI Engineer|\n",
      "|                                              Senior Financial Data Analyst|\n",
      "|                                      Sr. Workforce Management Data Analyst|\n",
      "|                              Master Data Management - Data/Process Analyst|\n",
      "|                                                 Sr. Database Administrator|\n",
      "|                                                      Data Engineer Manager|\n",
      "|          Senior Lead Engineer- Generative AI Engineering (Remote-Eligible)|\n",
      "|                                                        Lead Data Scientist|\n",
      "|                                                     Data Analyst Part Time|\n",
      "|Summer 2024 Datacenter Hardware Validation Engineer Undergrad Co-Op/ Intern|\n",
      "|                                      Enterprise Data Manager/Product owner|\n",
      "+---------------------------------------------------------------------------+\n",
      "only showing top 20 rows\n",
      "\n"
     ]
    }
   ],
   "source": [
    "postings.filter(lower(col('job_title'))\n",
    "                .rlike(r'.*(data)|(ai engineer)|(ml engineer).*'))\\\n",
    "    .select('job_title')\\\n",
    "    .show(20, truncate=100)"
   ]
  },
  {
   "cell_type": "markdown",
   "metadata": {},
   "source": [
    "#### For simplicity sake, I will choose only five main roles:\n",
    "- Data engineer\n",
    "- Data specialist\n",
    "- Data analyst\n",
    "- Data scientist\n",
    "- Data manager\n",
    "- Data Warehouse/Lake\n",
    "- AI engineer\n",
    "#### The easiest way to get classify job titles into these categories is through additional features: for each position I will give a new boolean column"
   ]
  },
  {
   "cell_type": "code",
   "execution_count": 26,
   "metadata": {},
   "outputs": [],
   "source": [
    "data_jobs = [\n",
    "    \"data engineer\",\n",
    "    \"data specialist\",\n",
    "    \"data analyst\",\n",
    "    \"data scientist\",\n",
    "    \"data manager\",\n",
    "    \"data (warehouse)|(lakehouse)\",\n",
    "    \"ai engineer\"\n",
    "]"
   ]
  },
  {
   "cell_type": "code",
   "execution_count": 27,
   "metadata": {},
   "outputs": [],
   "source": [
    "def add_position_column(df, pos: str):\n",
    "    pos_regex = r'.*{}.*'.format(pos)\\\n",
    "                         .lower()\n",
    "    return df.withColumn(pos, lower(col('job_title'))\\\n",
    "                         .rlike(pos_regex))\n",
    "\n",
    "for job in data_jobs:\n",
    "    postings = postings.transform(lambda x: add_position_column(x, job))"
   ]
  },
  {
   "cell_type": "code",
   "execution_count": 28,
   "metadata": {},
   "outputs": [
    {
     "name": "stdout",
     "output_type": "stream",
     "text": [
      "root\n",
      " |-- job_link: string (nullable = true)\n",
      " |-- last_processed_time: timestamp (nullable = true)\n",
      " |-- got_summary: boolean (nullable = true)\n",
      " |-- got_ner: boolean (nullable = true)\n",
      " |-- is_being_worked: boolean (nullable = true)\n",
      " |-- job_title: string (nullable = true)\n",
      " |-- company: string (nullable = true)\n",
      " |-- job_location: string (nullable = true)\n",
      " |-- first_seen: date (nullable = true)\n",
      " |-- search_city: string (nullable = true)\n",
      " |-- search_country: string (nullable = true)\n",
      " |-- search_position: string (nullable = true)\n",
      " |-- job_level: string (nullable = true)\n",
      " |-- job_type: string (nullable = true)\n",
      " |-- link_hashed: long (nullable = false)\n",
      " |-- data engineer: boolean (nullable = true)\n",
      " |-- data specialist: boolean (nullable = true)\n",
      " |-- data analyst: boolean (nullable = true)\n",
      " |-- data scientist: boolean (nullable = true)\n",
      " |-- data manager: boolean (nullable = true)\n",
      " |-- data (warehouse)|(lakehouse): boolean (nullable = true)\n",
      " |-- ai engineer: boolean (nullable = true)\n",
      "\n"
     ]
    }
   ],
   "source": [
    "postings.printSchema()"
   ]
  },
  {
   "cell_type": "code",
   "execution_count": 29,
   "metadata": {},
   "outputs": [],
   "source": [
    "data_postings = postings.filter(\n",
    "    col( \"data engineer\")  |\n",
    "    col(\"data specialist\") |\n",
    "    col(\"data analyst\")    |\n",
    "    col(\"data scientist\")  |\n",
    "    col(\"data manager\")    |\n",
    "    col(\"data (warehouse)|(lakehouse)\") |\n",
    "    col(\"ai engineer\"))"
   ]
  },
  {
   "cell_type": "code",
   "execution_count": 30,
   "metadata": {},
   "outputs": [],
   "source": [
    "# Run this to check the assumption, that the job levels are either Associate or Mid Senior (although it is given in the data, but it still needs to be chcked)\n",
    "# data_postings.select('job_level').distinct().show(10)"
   ]
  },
  {
   "cell_type": "markdown",
   "metadata": {},
   "source": [
    "> This dataset only includes associate and mid-level senior jobs(either because of the way it was scraped). By the nature of job postings there will be some erroneous values, but thois fact will be ignored for simplicity"
   ]
  },
  {
   "cell_type": "markdown",
   "metadata": {},
   "source": [
    "## Calculate the procentage of associate postings for each data job category"
   ]
  },
  {
   "cell_type": "code",
   "execution_count": 31,
   "metadata": {},
   "outputs": [],
   "source": [
    "assoc_part = {}\n",
    "counts = {'job_name': [],\n",
    "          'postings': []}\n",
    "\n",
    "for job in data_jobs:\n",
    "    # Filter by job\n",
    "    # Get the number of total occurences\n",
    "    job_occur = data_postings.filter(col(job))\n",
    "    job_occur.cache()\n",
    "    n_occur = job_occur.count()\n",
    "\n",
    "    counts['job_name'].append(job)\n",
    "    counts['postings'].append(n_occur)\n",
    "    \n",
    "    # Get the number of associate positions\n",
    "    n_assoc = job_occur.filter(col('job_level') == \"Associate\")\\\n",
    "                       .count()\n",
    "\n",
    "    assoc_part[job] = n_assoc / n_occur"
   ]
  },
  {
   "cell_type": "code",
   "execution_count": 32,
   "metadata": {},
   "outputs": [],
   "source": [
    "assoc_pct = pd.DataFrame([ {'Data job': key, 'Associate percentage': value * 100 }\n",
    "           for key, value in assoc_part.items()])"
   ]
  },
  {
   "cell_type": "code",
   "execution_count": 33,
   "metadata": {},
   "outputs": [
    {
     "data": {
      "text/plain": [
       "<Axes: xlabel='Associate percentage', ylabel='Data job'>"
      ]
     },
     "execution_count": 33,
     "metadata": {},
     "output_type": "execute_result"
    },
    {
     "data": {
      "image/png": "[encoded data removed]",
      "text/plain": [
       "<Figure size 640x480 with 1 Axes>"
      ]
     },
     "metadata": {},
     "output_type": "display_data"
    }
   ],
   "source": [
    "sns.barplot(assoc_pct,\n",
    "            x = 'Associate percentage',\n",
    "            y = 'Data job',\n",
    "            hue = 'Associate percentage',\n",
    "            palette=\"flare\",\n",
    "            orient = \"y\")"
   ]
  },
  {
   "cell_type": "markdown",
   "metadata": {},
   "source": [
    "### The number of postings for each position"
   ]
  },
  {
   "cell_type": "code",
   "execution_count": 34,
   "metadata": {},
   "outputs": [
    {
     "data": {
      "text/plain": [
       "<Axes: xlabel='postings', ylabel='job_name'>"
      ]
     },
     "execution_count": 34,
     "metadata": {},
     "output_type": "execute_result"
    },
    {
     "data": {
      "image/png": "[encoded data removed]",
      "text/plain": [
       "<Figure size 640x480 with 1 Axes>"
      ]
     },
     "metadata": {},
     "output_type": "display_data"
    }
   ],
   "source": [
    "data = pd.DataFrame(counts)\n",
    "\n",
    "sns.barplot(data,\n",
    "            x = 'postings',\n",
    "            y = 'job_name',\n",
    "            hue = 'postings',\n",
    "            palette='flare')"
   ]
  },
  {
   "cell_type": "markdown",
   "metadata": {},
   "source": [
    "# CONCLUSION: \n",
    "- We can see that data analyst is by far the most welcoming to newcomers because of the high job counts and associate level postings\n",
    "- Also, data engineers are very needed, however at least from the small portion for associate job postings, we can guess, that the market is more picky.\n",
    "- Whereas, there are not a lot of AI engineer postings and a very small proportion of associaet positions."
   ]
  },
  {
   "cell_type": "markdown",
   "metadata": {},
   "source": [
    "## Most wanted skills by position"
   ]
  },
  {
   "cell_type": "markdown",
   "metadata": {},
   "source": [
    "### Firstly, let's ascertain the most wanted skills any data position need\n",
    "> Hopefully, data postings dataframe is smaller than 10MB(broadcast join limit)"
   ]
  },
  {
   "cell_type": "code",
   "execution_count": 35,
   "metadata": {},
   "outputs": [
    {
     "name": "stdout",
     "output_type": "stream",
     "text": [
      "+--------------------+--------------------+--------------------+--------------------+--------------------+-----------+-------+---------------+--------------------+--------------------+-------------+----------+-----------+--------------+--------------------+----------+--------+-------------+---------------+------------+--------------+------------+----------------------------+-----------+\n",
      "|         link_hashed|            job_link|          job_skills|            job_link| last_processed_time|got_summary|got_ner|is_being_worked|           job_title|             company| job_location|first_seen|search_city|search_country|     search_position| job_level|job_type|data engineer|data specialist|data analyst|data scientist|data manager|data (warehouse)|(lakehouse)|ai engineer|\n",
      "+--------------------+--------------------+--------------------+--------------------+--------------------+-----------+-------+---------------+--------------------+--------------------+-------------+----------+-----------+--------------+--------------------+----------+--------+-------------+---------------+------------+--------------+------------+----------------------------+-----------+\n",
      "| 6467027419517560022|https://www.linke...|[Data Architectur...|https://www.linke...|2024-01-19 09:45:...|       true|   true|          false|Data Architect /S...|        iSpace, Inc.| Columbus, OH|2024-01-12|   Columbus| United States|           Architect|Mid senior|  Onsite|         true|          false|       false|         false|       false|                       false|      false|\n",
      "| 2664778690826808253|https://www.linke...|[Data Analytics, ...|https://www.linke...|2024-01-19 09:45:...|       true|   true|          false|      Data Scientist|National Reconnai...|Chantilly, VA|2024-01-12| Providence| United States|           Biologist| Associate|  Onsite|        false|          false|       false|          true|       false|                       false|      false|\n",
      "|  914724932645535512|https://www.linke...|[Accounting,  Bud...|https://www.linke...|2024-01-19 09:45:...|       true|   true|          false|Senior Financial ...|                HMSA| Honolulu, HI|2024-01-12|    Kaneohe| United States|     Accountant Cost|Mid senior|  Onsite|        false|          false|        true|         false|       false|                       false|      false|\n",
      "|-4848860201165402495|https://www.linke...|[Marketing,  Mach...|https://www.linke...|2024-01-19 09:45:...|       true|   true|          false|Associate Data Sc...|             Tencent|Palo Alto, CA|2024-01-12|Santa Clara| United States|           Biologist| Associate|  Onsite|        false|          false|       false|          true|       false|                       false|      false|\n",
      "| 5737795617259112148|https://www.linke...|[Data acquisition...|https://www.linke...|2024-01-19 09:45:...|       true|   true|          false|Rates and Data An...|      City of Tacoma|   Tacoma, WA|2024-01-12|     Summit| United States|Chief Librarian B...| Associate|  Onsite|        false|          false|        true|         false|       false|                       false|      false|\n",
      "+--------------------+--------------------+--------------------+--------------------+--------------------+-----------+-------+---------------+--------------------+--------------------+-------------+----------+-----------+--------------+--------------------+----------+--------+-------------+---------------+------------+--------------+------------+----------------------------+-----------+\n",
      "only showing top 5 rows\n",
      "\n"
     ]
    }
   ],
   "source": [
    "joined = skills.join(broadcast(data_postings), 'link_hashed')\n",
    "joined.cache()\n",
    "joined.show(5)"
   ]
  },
  {
   "cell_type": "code",
   "execution_count": 36,
   "metadata": {},
   "outputs": [
    {
     "data": {
      "text/html": [
       "<div>\n",
       "<style scoped>\n",
       "    .dataframe tbody tr th:only-of-type {\n",
       "        vertical-align: middle;\n",
       "    }\n",
       "\n",
       "    .dataframe tbody tr th {\n",
       "        vertical-align: top;\n",
       "    }\n",
       "\n",
       "    .dataframe thead th {\n",
       "        text-align: right;\n",
       "    }\n",
       "</style>\n",
       "<table border=\"1\" class=\"dataframe\">\n",
       "  <thead>\n",
       "    <tr style=\"text-align: right;\">\n",
       "      <th></th>\n",
       "      <th>link_hashed</th>\n",
       "      <th>job_link</th>\n",
       "      <th>job_skills</th>\n",
       "      <th>job_link</th>\n",
       "      <th>last_processed_time</th>\n",
       "      <th>got_summary</th>\n",
       "      <th>got_ner</th>\n",
       "      <th>is_being_worked</th>\n",
       "      <th>job_title</th>\n",
       "      <th>company</th>\n",
       "      <th>...</th>\n",
       "      <th>search_position</th>\n",
       "      <th>job_level</th>\n",
       "      <th>job_type</th>\n",
       "      <th>data engineer</th>\n",
       "      <th>data specialist</th>\n",
       "      <th>data analyst</th>\n",
       "      <th>data scientist</th>\n",
       "      <th>data manager</th>\n",
       "      <th>data (warehouse)|(lakehouse)</th>\n",
       "      <th>ai engineer</th>\n",
       "    </tr>\n",
       "  </thead>\n",
       "  <tbody>\n",
       "    <tr>\n",
       "      <th>0</th>\n",
       "      <td>6467027419517560022</td>\n",
       "      <td>https://www.linkedin.com/jobs/view/data-archit...</td>\n",
       "      <td>[Data Architecture,  SQL,  Python,  Snowflake,...</td>\n",
       "      <td>https://www.linkedin.com/jobs/view/data-archit...</td>\n",
       "      <td>2024-01-19 09:45:09.215838</td>\n",
       "      <td>True</td>\n",
       "      <td>True</td>\n",
       "      <td>False</td>\n",
       "      <td>Data Architect /Senior Data Engineer</td>\n",
       "      <td>iSpace, Inc.</td>\n",
       "      <td>...</td>\n",
       "      <td>Architect</td>\n",
       "      <td>Mid senior</td>\n",
       "      <td>Onsite</td>\n",
       "      <td>True</td>\n",
       "      <td>False</td>\n",
       "      <td>False</td>\n",
       "      <td>False</td>\n",
       "      <td>False</td>\n",
       "      <td>False</td>\n",
       "      <td>False</td>\n",
       "    </tr>\n",
       "    <tr>\n",
       "      <th>1</th>\n",
       "      <td>2664778690826808253</td>\n",
       "      <td>https://www.linkedin.com/jobs/view/data-scient...</td>\n",
       "      <td>[Data Analytics,  Computer Science,  Business ...</td>\n",
       "      <td>https://www.linkedin.com/jobs/view/data-scient...</td>\n",
       "      <td>2024-01-19 09:45:09.215838</td>\n",
       "      <td>True</td>\n",
       "      <td>True</td>\n",
       "      <td>False</td>\n",
       "      <td>Data Scientist</td>\n",
       "      <td>National Reconnaissance Office (NRO)</td>\n",
       "      <td>...</td>\n",
       "      <td>Biologist</td>\n",
       "      <td>Associate</td>\n",
       "      <td>Onsite</td>\n",
       "      <td>False</td>\n",
       "      <td>False</td>\n",
       "      <td>False</td>\n",
       "      <td>True</td>\n",
       "      <td>False</td>\n",
       "      <td>False</td>\n",
       "      <td>False</td>\n",
       "    </tr>\n",
       "    <tr>\n",
       "      <th>2</th>\n",
       "      <td>914724932645535512</td>\n",
       "      <td>https://www.linkedin.com/jobs/view/senior-fina...</td>\n",
       "      <td>[Accounting,  Budgeting,  Variance Analysis,  ...</td>\n",
       "      <td>https://www.linkedin.com/jobs/view/senior-fina...</td>\n",
       "      <td>2024-01-19 09:45:09.215838</td>\n",
       "      <td>True</td>\n",
       "      <td>True</td>\n",
       "      <td>False</td>\n",
       "      <td>Senior Financial Healthcare Data Analyst I</td>\n",
       "      <td>HMSA</td>\n",
       "      <td>...</td>\n",
       "      <td>Accountant Cost</td>\n",
       "      <td>Mid senior</td>\n",
       "      <td>Onsite</td>\n",
       "      <td>False</td>\n",
       "      <td>False</td>\n",
       "      <td>True</td>\n",
       "      <td>False</td>\n",
       "      <td>False</td>\n",
       "      <td>False</td>\n",
       "      <td>False</td>\n",
       "    </tr>\n",
       "    <tr>\n",
       "      <th>3</th>\n",
       "      <td>-4848860201165402495</td>\n",
       "      <td>https://www.linkedin.com/jobs/view/associate-d...</td>\n",
       "      <td>[Marketing,  Machine Learning Engineering,  Ga...</td>\n",
       "      <td>https://www.linkedin.com/jobs/view/associate-d...</td>\n",
       "      <td>2024-01-19 09:45:09.215838</td>\n",
       "      <td>True</td>\n",
       "      <td>True</td>\n",
       "      <td>False</td>\n",
       "      <td>Associate Data Scientist</td>\n",
       "      <td>Tencent</td>\n",
       "      <td>...</td>\n",
       "      <td>Biologist</td>\n",
       "      <td>Associate</td>\n",
       "      <td>Onsite</td>\n",
       "      <td>False</td>\n",
       "      <td>False</td>\n",
       "      <td>False</td>\n",
       "      <td>True</td>\n",
       "      <td>False</td>\n",
       "      <td>False</td>\n",
       "      <td>False</td>\n",
       "    </tr>\n",
       "    <tr>\n",
       "      <th>4</th>\n",
       "      <td>5737795617259112148</td>\n",
       "      <td>https://www.linkedin.com/jobs/view/rates-and-d...</td>\n",
       "      <td>[Data acquisition,  Data validation,  Data tra...</td>\n",
       "      <td>https://www.linkedin.com/jobs/view/rates-and-d...</td>\n",
       "      <td>2024-01-19 09:45:09.215838</td>\n",
       "      <td>True</td>\n",
       "      <td>True</td>\n",
       "      <td>False</td>\n",
       "      <td>Rates and Data Analyst</td>\n",
       "      <td>City of Tacoma</td>\n",
       "      <td>...</td>\n",
       "      <td>Chief Librarian Branch Or Department</td>\n",
       "      <td>Associate</td>\n",
       "      <td>Onsite</td>\n",
       "      <td>False</td>\n",
       "      <td>False</td>\n",
       "      <td>True</td>\n",
       "      <td>False</td>\n",
       "      <td>False</td>\n",
       "      <td>False</td>\n",
       "      <td>False</td>\n",
       "    </tr>\n",
       "  </tbody>\n",
       "</table>\n",
       "<p>5 rows × 24 columns</p>\n",
       "</div>"
      ],
      "text/plain": [
       "           link_hashed                                           job_link  \\\n",
       "0  6467027419517560022  https://www.linkedin.com/jobs/view/data-archit...   \n",
       "1  2664778690826808253  https://www.linkedin.com/jobs/view/data-scient...   \n",
       "2   914724932645535512  https://www.linkedin.com/jobs/view/senior-fina...   \n",
       "3 -4848860201165402495  https://www.linkedin.com/jobs/view/associate-d...   \n",
       "4  5737795617259112148  https://www.linkedin.com/jobs/view/rates-and-d...   \n",
       "\n",
       "                                          job_skills  \\\n",
       "0  [Data Architecture,  SQL,  Python,  Snowflake,...   \n",
       "1  [Data Analytics,  Computer Science,  Business ...   \n",
       "2  [Accounting,  Budgeting,  Variance Analysis,  ...   \n",
       "3  [Marketing,  Machine Learning Engineering,  Ga...   \n",
       "4  [Data acquisition,  Data validation,  Data tra...   \n",
       "\n",
       "                                            job_link  \\\n",
       "0  https://www.linkedin.com/jobs/view/data-archit...   \n",
       "1  https://www.linkedin.com/jobs/view/data-scient...   \n",
       "2  https://www.linkedin.com/jobs/view/senior-fina...   \n",
       "3  https://www.linkedin.com/jobs/view/associate-d...   \n",
       "4  https://www.linkedin.com/jobs/view/rates-and-d...   \n",
       "\n",
       "         last_processed_time  got_summary  got_ner  is_being_worked  \\\n",
       "0 2024-01-19 09:45:09.215838         True     True            False   \n",
       "1 2024-01-19 09:45:09.215838         True     True            False   \n",
       "2 2024-01-19 09:45:09.215838         True     True            False   \n",
       "3 2024-01-19 09:45:09.215838         True     True            False   \n",
       "4 2024-01-19 09:45:09.215838         True     True            False   \n",
       "\n",
       "                                    job_title  \\\n",
       "0        Data Architect /Senior Data Engineer   \n",
       "1                              Data Scientist   \n",
       "2  Senior Financial Healthcare Data Analyst I   \n",
       "3                    Associate Data Scientist   \n",
       "4                      Rates and Data Analyst   \n",
       "\n",
       "                                company  ...  \\\n",
       "0                          iSpace, Inc.  ...   \n",
       "1  National Reconnaissance Office (NRO)  ...   \n",
       "2                                  HMSA  ...   \n",
       "3                               Tencent  ...   \n",
       "4                        City of Tacoma  ...   \n",
       "\n",
       "                        search_position   job_level job_type data engineer  \\\n",
       "0                             Architect  Mid senior   Onsite          True   \n",
       "1                             Biologist   Associate   Onsite         False   \n",
       "2                       Accountant Cost  Mid senior   Onsite         False   \n",
       "3                             Biologist   Associate   Onsite         False   \n",
       "4  Chief Librarian Branch Or Department   Associate   Onsite         False   \n",
       "\n",
       "  data specialist data analyst data scientist  data manager  \\\n",
       "0           False        False          False         False   \n",
       "1           False        False           True         False   \n",
       "2           False         True          False         False   \n",
       "3           False        False           True         False   \n",
       "4           False         True          False         False   \n",
       "\n",
       "   data (warehouse)|(lakehouse)  ai engineer  \n",
       "0                         False        False  \n",
       "1                         False        False  \n",
       "2                         False        False  \n",
       "3                         False        False  \n",
       "4                         False        False  \n",
       "\n",
       "[5 rows x 24 columns]"
      ]
     },
     "execution_count": 36,
     "metadata": {},
     "output_type": "execute_result"
    }
   ],
   "source": [
    "job_skills = joined.toPandas()\n",
    "job_skills.head()"
   ]
  },
  {
   "cell_type": "code",
   "execution_count": 37,
   "metadata": {},
   "outputs": [],
   "source": [
    "import re"
   ]
  },
  {
   "cell_type": "code",
   "execution_count": 38,
   "metadata": {},
   "outputs": [],
   "source": [
    "def transform_word(word):\n",
    "    return re.sub(r'[^a-zA-Z\\d\\s\\-]', '', word.lower())"
   ]
  },
  {
   "cell_type": "code",
   "execution_count": 39,
   "metadata": {},
   "outputs": [],
   "source": [
    "def count_skills(arr: list[list[str]]) -> pd.DataFrame:\n",
    "    skill_counts = {}\n",
    "    \n",
    "    for skills in arr:\n",
    "        for skill in skills:\n",
    "            skill = transform_word(skill)\n",
    "            if skill in skill_counts:\n",
    "                skill_counts[skill] += 1\n",
    "            else:\n",
    "                skill_counts[skill] = 1 \n",
    "                \n",
    "    skill_counts = pd.DataFrame({\n",
    "        'skill': skill_counts.keys(),\n",
    "        'count': skill_counts.values()\n",
    "    })\n",
    "    \n",
    "    return skill_counts"
   ]
  },
  {
   "cell_type": "code",
   "execution_count": 40,
   "metadata": {},
   "outputs": [],
   "source": [
    "skill_counts = count_skills(job_skills['job_skills'].values)   "
   ]
  },
  {
   "cell_type": "code",
   "execution_count": 41,
   "metadata": {},
   "outputs": [
    {
     "data": {
      "text/html": [
       "<div>\n",
       "<style scoped>\n",
       "    .dataframe tbody tr th:only-of-type {\n",
       "        vertical-align: middle;\n",
       "    }\n",
       "\n",
       "    .dataframe tbody tr th {\n",
       "        vertical-align: top;\n",
       "    }\n",
       "\n",
       "    .dataframe thead th {\n",
       "        text-align: right;\n",
       "    }\n",
       "</style>\n",
       "<table border=\"1\" class=\"dataframe\">\n",
       "  <thead>\n",
       "    <tr style=\"text-align: right;\">\n",
       "      <th></th>\n",
       "      <th>skill</th>\n",
       "      <th>count</th>\n",
       "    </tr>\n",
       "  </thead>\n",
       "  <tbody>\n",
       "    <tr>\n",
       "      <th>0</th>\n",
       "      <td>data architecture</td>\n",
       "      <td>18</td>\n",
       "    </tr>\n",
       "    <tr>\n",
       "      <th>1</th>\n",
       "      <td>sql</td>\n",
       "      <td>2046</td>\n",
       "    </tr>\n",
       "    <tr>\n",
       "      <th>2</th>\n",
       "      <td>python</td>\n",
       "      <td>2050</td>\n",
       "    </tr>\n",
       "    <tr>\n",
       "      <th>3</th>\n",
       "      <td>snowflake</td>\n",
       "      <td>527</td>\n",
       "    </tr>\n",
       "    <tr>\n",
       "      <th>4</th>\n",
       "      <td>power bi</td>\n",
       "      <td>409</td>\n",
       "    </tr>\n",
       "    <tr>\n",
       "      <th>...</th>\n",
       "      <td>...</td>\n",
       "      <td>...</td>\n",
       "    </tr>\n",
       "    <tr>\n",
       "      <th>13044</th>\n",
       "      <td>blockchain</td>\n",
       "      <td>1</td>\n",
       "    </tr>\n",
       "    <tr>\n",
       "      <th>13045</th>\n",
       "      <td>angular js</td>\n",
       "      <td>1</td>\n",
       "    </tr>\n",
       "    <tr>\n",
       "      <th>13046</th>\n",
       "      <td>tsscifs poly</td>\n",
       "      <td>1</td>\n",
       "    </tr>\n",
       "    <tr>\n",
       "      <th>13047</th>\n",
       "      <td>data software solutions</td>\n",
       "      <td>1</td>\n",
       "    </tr>\n",
       "    <tr>\n",
       "      <th>13048</th>\n",
       "      <td>programming languages python r scala</td>\n",
       "      <td>1</td>\n",
       "    </tr>\n",
       "  </tbody>\n",
       "</table>\n",
       "<p>13049 rows × 2 columns</p>\n",
       "</div>"
      ],
      "text/plain": [
       "                                       skill  count\n",
       "0                          data architecture     18\n",
       "1                                        sql   2046\n",
       "2                                     python   2050\n",
       "3                                  snowflake    527\n",
       "4                                   power bi    409\n",
       "...                                      ...    ...\n",
       "13044                             blockchain      1\n",
       "13045                             angular js      1\n",
       "13046                           tsscifs poly      1\n",
       "13047                data software solutions      1\n",
       "13048   programming languages python r scala      1\n",
       "\n",
       "[13049 rows x 2 columns]"
      ]
     },
     "execution_count": 41,
     "metadata": {},
     "output_type": "execute_result"
    }
   ],
   "source": [
    "skill_counts"
   ]
  },
  {
   "cell_type": "code",
   "execution_count": 42,
   "metadata": {},
   "outputs": [
    {
     "data": {
      "text/plain": [
       "Text(0.5, 1.0, 'Top 10 siklls for data jobs')"
      ]
     },
     "execution_count": 42,
     "metadata": {},
     "output_type": "execute_result"
    },
    {
     "data": {
      "image/png": "[encoded data removed]",
      "text/plain": [
       "<Figure size 640x480 with 1 Axes>"
      ]
     },
     "metadata": {},
     "output_type": "display_data"
    }
   ],
   "source": [
    "data = skill_counts.sort_values('count', ascending=False)\\\n",
    "    .head(10)\n",
    "\n",
    "explode = [0] * 10\n",
    "explode[9] = 0.2\n",
    "\n",
    "plt.pie(x = data['count'],\n",
    "        labels = data['skill'],\n",
    "       autopct=\"%1.1f%%\",\n",
    "       explode = explode)\n",
    "plt.title('Top 10 siklls for data jobs')"
   ]
  },
  {
   "cell_type": "code",
   "execution_count": 43,
   "metadata": {},
   "outputs": [],
   "source": [
    "# Remove some data jobs from our radar for visualization sake\n",
    "data_jobs = ['data engineer', 'data analyst', 'data scientist', 'ai engineer']"
   ]
  },
  {
   "cell_type": "code",
   "execution_count": 44,
   "metadata": {},
   "outputs": [],
   "source": [
    "counts = pd.DataFrame(counts)\n",
    "counts['postings_pct'] = counts['postings'] / counts['postings'].sum() * 100\n",
    "counts_main = counts[counts['job_name'].isin(data_jobs)]"
   ]
  },
  {
   "cell_type": "code",
   "execution_count": 45,
   "metadata": {},
   "outputs": [
    {
     "data": {
      "image/png": "[encoded data removed]",
      "text/plain": [
       "<Figure size 1000x1500 with 4 Axes>"
      ]
     },
     "metadata": {},
     "output_type": "display_data"
    }
   ],
   "source": [
    "fig, axs = plt.subplots(nrows=4, figsize=(10, 15))\n",
    "\n",
    "dfs = []\n",
    "dfs_pct = []\n",
    "\n",
    "for i, job in enumerate(data_jobs):\n",
    "    mask = job_skills[job]\n",
    "    data = job_skills[mask]\n",
    "\n",
    "    skill_counts = count_skills(data['job_skills']) \\\n",
    "        .sort_values('count', ascending=False)\n",
    "    dfs.append(skill_counts)\n",
    "\n",
    "    axs[i].barh(width = skill_counts['count'].head(10),\n",
    "               y = skill_counts['skill'].head(10))\n",
    "    \n",
    "    axs[i].set_title(f\"{job} skills\")\n",
    "\n",
    "plt.show()"
   ]
  },
  {
   "cell_type": "markdown",
   "metadata": {},
   "source": [
    "# CONCLUSION:\n",
    "- The most popular skills in data jobs, by far, are SQL and Python\n",
    "    - Therefore newcomers in the data field should have a strong foundation in these skills and education institutions and organizations, should focus on these skills early. \n",
    "- However, specific data jobs require a bit more, so at some - specialization is crucial\n",
    "    -  For example, data engineering positions list Scala as an important skill, because Spark is natively written in Scala, however analysts and scientitst don't really have to know the language.\n",
    "    -  R still is a tool, that some scientists and analysts use, however for data engineers and data warehouse developers it is a relatively uselesss skill. "
   ]
  },
  {
   "cell_type": "markdown",
   "metadata": {},
   "source": [
    "## Export datasets into CSV for Tableu visualization "
   ]
  },
  {
   "cell_type": "code",
   "execution_count": 46,
   "metadata": {},
   "outputs": [],
   "source": [
    "skills_df = pd.DataFrame({'skill': []})\n",
    "pcts_df = pd.DataFrame({'skill': []})\n",
    "\n",
    "for dframe, new_name in zip(dfs, data_jobs):\n",
    "    dframe.columns = ['skill', new_name]\n",
    "    \n",
    "    skills_df = skills_df.merge(\n",
    "                          dframe.sort_values(new_name, ascending=False)\\\n",
    "                                .head(10),\n",
    "                          on='skill', how='outer')\n",
    "    \n",
    "    \n",
    "    total_postings = counts[counts['job_name'].str.lower() == new_name]['postings']\n",
    "    total_postings = total_postings.values[0]\n",
    "    \n",
    "    dframe[new_name] = dframe[new_name] / total_postings * 100\n",
    "    pcts_df = pcts_df.merge(\n",
    "                      dframe.head(10),\n",
    "                      on='skill', how='outer')"
   ]
  },
  {
   "cell_type": "code",
   "execution_count": 47,
   "metadata": {},
   "outputs": [],
   "source": [
    "skills_df = skills_df.fillna(0)\n",
    "pcts_df = pcts_df.fillna(0) "
   ]
  },
  {
   "cell_type": "code",
   "execution_count": 48,
   "metadata": {},
   "outputs": [
    {
     "data": {
      "text/html": [
       "<div>\n",
       "<style scoped>\n",
       "    .dataframe tbody tr th:only-of-type {\n",
       "        vertical-align: middle;\n",
       "    }\n",
       "\n",
       "    .dataframe tbody tr th {\n",
       "        vertical-align: top;\n",
       "    }\n",
       "\n",
       "    .dataframe thead th {\n",
       "        text-align: right;\n",
       "    }\n",
       "</style>\n",
       "<table border=\"1\" class=\"dataframe\">\n",
       "  <thead>\n",
       "    <tr style=\"text-align: right;\">\n",
       "      <th></th>\n",
       "      <th>skill</th>\n",
       "      <th>data engineer</th>\n",
       "      <th>data analyst</th>\n",
       "      <th>data scientist</th>\n",
       "      <th>ai engineer</th>\n",
       "    </tr>\n",
       "  </thead>\n",
       "  <tbody>\n",
       "    <tr>\n",
       "      <th>0</th>\n",
       "      <td>python</td>\n",
       "      <td>50.722222</td>\n",
       "      <td>30.005173</td>\n",
       "      <td>55.375723</td>\n",
       "      <td>54.455446</td>\n",
       "    </tr>\n",
       "    <tr>\n",
       "      <th>1</th>\n",
       "      <td>sql</td>\n",
       "      <td>43.777778</td>\n",
       "      <td>43.766167</td>\n",
       "      <td>41.387283</td>\n",
       "      <td>0.000000</td>\n",
       "    </tr>\n",
       "    <tr>\n",
       "      <th>2</th>\n",
       "      <td>data engineering</td>\n",
       "      <td>32.777778</td>\n",
       "      <td>0.000000</td>\n",
       "      <td>0.000000</td>\n",
       "      <td>0.000000</td>\n",
       "    </tr>\n",
       "    <tr>\n",
       "      <th>3</th>\n",
       "      <td>spark</td>\n",
       "      <td>27.166667</td>\n",
       "      <td>0.000000</td>\n",
       "      <td>0.000000</td>\n",
       "      <td>0.000000</td>\n",
       "    </tr>\n",
       "    <tr>\n",
       "      <th>4</th>\n",
       "      <td>scala</td>\n",
       "      <td>26.555556</td>\n",
       "      <td>0.000000</td>\n",
       "      <td>0.000000</td>\n",
       "      <td>34.653465</td>\n",
       "    </tr>\n",
       "  </tbody>\n",
       "</table>\n",
       "</div>"
      ],
      "text/plain": [
       "              skill  data engineer  data analyst  data scientist  ai engineer\n",
       "0            python      50.722222     30.005173       55.375723    54.455446\n",
       "1               sql      43.777778     43.766167       41.387283     0.000000\n",
       "2  data engineering      32.777778      0.000000        0.000000     0.000000\n",
       "3             spark      27.166667      0.000000        0.000000     0.000000\n",
       "4             scala      26.555556      0.000000        0.000000    34.653465"
      ]
     },
     "execution_count": 48,
     "metadata": {},
     "output_type": "execute_result"
    }
   ],
   "source": [
    "pcts_df.head()"
   ]
  },
  {
   "cell_type": "code",
   "execution_count": 49,
   "metadata": {},
   "outputs": [],
   "source": [
    "skills_df.columns = [x.capitalize().replace('Ai', 'AI') for x in skills_df.columns]\n",
    "skills_df['Skill'] = skills_df['Skill']\\\n",
    "                        .map(lambda x: x.strip().capitalize())\n",
    "pcts_df.columns = [x.capitalize().replace('Ai', 'AI') for x in skills_df.columns]\n",
    "pcts_df['Skill'] = skills_df['Skill']\\\n",
    "                        .map(lambda x: x.strip().capitalize())"
   ]
  },
  {
   "cell_type": "code",
   "execution_count": 50,
   "metadata": {},
   "outputs": [
    {
     "data": {
      "text/html": [
       "<div>\n",
       "<style scoped>\n",
       "    .dataframe tbody tr th:only-of-type {\n",
       "        vertical-align: middle;\n",
       "    }\n",
       "\n",
       "    .dataframe tbody tr th {\n",
       "        vertical-align: top;\n",
       "    }\n",
       "\n",
       "    .dataframe thead th {\n",
       "        text-align: right;\n",
       "    }\n",
       "</style>\n",
       "<table border=\"1\" class=\"dataframe\">\n",
       "  <thead>\n",
       "    <tr style=\"text-align: right;\">\n",
       "      <th></th>\n",
       "      <th>Skill</th>\n",
       "      <th>Data engineer</th>\n",
       "      <th>Data analyst</th>\n",
       "      <th>Data scientist</th>\n",
       "      <th>AI engineer</th>\n",
       "    </tr>\n",
       "  </thead>\n",
       "  <tbody>\n",
       "    <tr>\n",
       "      <th>0</th>\n",
       "      <td>Python</td>\n",
       "      <td>50.722222</td>\n",
       "      <td>30.005173</td>\n",
       "      <td>55.375723</td>\n",
       "      <td>54.455446</td>\n",
       "    </tr>\n",
       "    <tr>\n",
       "      <th>1</th>\n",
       "      <td>Sql</td>\n",
       "      <td>43.777778</td>\n",
       "      <td>43.766167</td>\n",
       "      <td>41.387283</td>\n",
       "      <td>0.000000</td>\n",
       "    </tr>\n",
       "    <tr>\n",
       "      <th>2</th>\n",
       "      <td>Data engineering</td>\n",
       "      <td>32.777778</td>\n",
       "      <td>0.000000</td>\n",
       "      <td>0.000000</td>\n",
       "      <td>0.000000</td>\n",
       "    </tr>\n",
       "    <tr>\n",
       "      <th>3</th>\n",
       "      <td>Spark</td>\n",
       "      <td>27.166667</td>\n",
       "      <td>0.000000</td>\n",
       "      <td>0.000000</td>\n",
       "      <td>0.000000</td>\n",
       "    </tr>\n",
       "    <tr>\n",
       "      <th>4</th>\n",
       "      <td>Scala</td>\n",
       "      <td>26.555556</td>\n",
       "      <td>0.000000</td>\n",
       "      <td>0.000000</td>\n",
       "      <td>34.653465</td>\n",
       "    </tr>\n",
       "  </tbody>\n",
       "</table>\n",
       "</div>"
      ],
      "text/plain": [
       "              Skill  Data engineer  Data analyst  Data scientist  AI engineer\n",
       "0            Python      50.722222     30.005173       55.375723    54.455446\n",
       "1               Sql      43.777778     43.766167       41.387283     0.000000\n",
       "2  Data engineering      32.777778      0.000000        0.000000     0.000000\n",
       "3             Spark      27.166667      0.000000        0.000000     0.000000\n",
       "4             Scala      26.555556      0.000000        0.000000    34.653465"
      ]
     },
     "execution_count": 50,
     "metadata": {},
     "output_type": "execute_result"
    }
   ],
   "source": [
    "pcts_df.head()"
   ]
  },
  {
   "cell_type": "code",
   "execution_count": 51,
   "metadata": {},
   "outputs": [],
   "source": [
    "skills_df = pd.melt(skills_df, id_vars=['Skill'], var_name='Position', value_name='Occured in postings')\n",
    "pcts_df = pd.melt(pcts_df, id_vars=['Skill'], var_name='Position', value_name='Occured in postings')"
   ]
  },
  {
   "cell_type": "code",
   "execution_count": 52,
   "metadata": {},
   "outputs": [
    {
     "data": {
      "text/html": [
       "<div>\n",
       "<style scoped>\n",
       "    .dataframe tbody tr th:only-of-type {\n",
       "        vertical-align: middle;\n",
       "    }\n",
       "\n",
       "    .dataframe tbody tr th {\n",
       "        vertical-align: top;\n",
       "    }\n",
       "\n",
       "    .dataframe thead th {\n",
       "        text-align: right;\n",
       "    }\n",
       "</style>\n",
       "<table border=\"1\" class=\"dataframe\">\n",
       "  <thead>\n",
       "    <tr style=\"text-align: right;\">\n",
       "      <th></th>\n",
       "      <th>Skill</th>\n",
       "      <th>Position</th>\n",
       "      <th>Occured in postings</th>\n",
       "      <th>Occured in % postings</th>\n",
       "    </tr>\n",
       "  </thead>\n",
       "  <tbody>\n",
       "    <tr>\n",
       "      <th>0</th>\n",
       "      <td>Python</td>\n",
       "      <td>Data engineer</td>\n",
       "      <td>913.0</td>\n",
       "      <td>50.722222</td>\n",
       "    </tr>\n",
       "    <tr>\n",
       "      <th>1</th>\n",
       "      <td>Sql</td>\n",
       "      <td>Data engineer</td>\n",
       "      <td>788.0</td>\n",
       "      <td>43.777778</td>\n",
       "    </tr>\n",
       "    <tr>\n",
       "      <th>2</th>\n",
       "      <td>Data engineering</td>\n",
       "      <td>Data engineer</td>\n",
       "      <td>590.0</td>\n",
       "      <td>32.777778</td>\n",
       "    </tr>\n",
       "    <tr>\n",
       "      <th>3</th>\n",
       "      <td>Spark</td>\n",
       "      <td>Data engineer</td>\n",
       "      <td>489.0</td>\n",
       "      <td>27.166667</td>\n",
       "    </tr>\n",
       "    <tr>\n",
       "      <th>4</th>\n",
       "      <td>Scala</td>\n",
       "      <td>Data engineer</td>\n",
       "      <td>478.0</td>\n",
       "      <td>26.555556</td>\n",
       "    </tr>\n",
       "  </tbody>\n",
       "</table>\n",
       "</div>"
      ],
      "text/plain": [
       "              Skill       Position  Occured in postings  Occured in % postings\n",
       "0            Python  Data engineer                913.0              50.722222\n",
       "1               Sql  Data engineer                788.0              43.777778\n",
       "2  Data engineering  Data engineer                590.0              32.777778\n",
       "3             Spark  Data engineer                489.0              27.166667\n",
       "4             Scala  Data engineer                478.0              26.555556"
      ]
     },
     "execution_count": 52,
     "metadata": {},
     "output_type": "execute_result"
    }
   ],
   "source": [
    "skills_df['Occured in % postings'] = pcts_df['Occured in postings']\n",
    "skills_df.head()"
   ]
  },
  {
   "cell_type": "code",
   "execution_count": 59,
   "metadata": {},
   "outputs": [],
   "source": [
    "skills_df = skills_df.sort_values('Occured in postings', ascending=False)"
   ]
  },
  {
   "cell_type": "code",
   "execution_count": 60,
   "metadata": {},
   "outputs": [],
   "source": [
    "skills_df.to_csv('data/skills.csv')"
   ]
  },
  {
   "cell_type": "code",
   "execution_count": 54,
   "metadata": {},
   "outputs": [
    {
     "data": {
      "text/html": [
       "<div>\n",
       "<style scoped>\n",
       "    .dataframe tbody tr th:only-of-type {\n",
       "        vertical-align: middle;\n",
       "    }\n",
       "\n",
       "    .dataframe tbody tr th {\n",
       "        vertical-align: top;\n",
       "    }\n",
       "\n",
       "    .dataframe thead th {\n",
       "        text-align: right;\n",
       "    }\n",
       "</style>\n",
       "<table border=\"1\" class=\"dataframe\">\n",
       "  <thead>\n",
       "    <tr style=\"text-align: right;\">\n",
       "      <th></th>\n",
       "      <th>job_name</th>\n",
       "      <th>postings</th>\n",
       "      <th>postings_pct</th>\n",
       "      <th>assoc_pct</th>\n",
       "    </tr>\n",
       "  </thead>\n",
       "  <tbody>\n",
       "    <tr>\n",
       "      <th>0</th>\n",
       "      <td>data engineer</td>\n",
       "      <td>1800</td>\n",
       "      <td>35.538006</td>\n",
       "      <td>5.555556</td>\n",
       "    </tr>\n",
       "    <tr>\n",
       "      <th>1</th>\n",
       "      <td>data specialist</td>\n",
       "      <td>92</td>\n",
       "      <td>1.816387</td>\n",
       "      <td>19.565217</td>\n",
       "    </tr>\n",
       "    <tr>\n",
       "      <th>2</th>\n",
       "      <td>data analyst</td>\n",
       "      <td>1933</td>\n",
       "      <td>38.163870</td>\n",
       "      <td>17.123642</td>\n",
       "    </tr>\n",
       "    <tr>\n",
       "      <th>3</th>\n",
       "      <td>data scientist</td>\n",
       "      <td>865</td>\n",
       "      <td>17.077986</td>\n",
       "      <td>9.248555</td>\n",
       "    </tr>\n",
       "    <tr>\n",
       "      <th>4</th>\n",
       "      <td>data manager</td>\n",
       "      <td>195</td>\n",
       "      <td>3.849951</td>\n",
       "      <td>8.205128</td>\n",
       "    </tr>\n",
       "    <tr>\n",
       "      <th>5</th>\n",
       "      <td>data (warehouse)|(lakehouse)</td>\n",
       "      <td>79</td>\n",
       "      <td>1.559724</td>\n",
       "      <td>8.860759</td>\n",
       "    </tr>\n",
       "    <tr>\n",
       "      <th>6</th>\n",
       "      <td>ai engineer</td>\n",
       "      <td>101</td>\n",
       "      <td>1.994077</td>\n",
       "      <td>1.980198</td>\n",
       "    </tr>\n",
       "  </tbody>\n",
       "</table>\n",
       "</div>"
      ],
      "text/plain": [
       "                       job_name  postings  postings_pct  assoc_pct\n",
       "0                 data engineer      1800     35.538006   5.555556\n",
       "1               data specialist        92      1.816387  19.565217\n",
       "2                  data analyst      1933     38.163870  17.123642\n",
       "3                data scientist       865     17.077986   9.248555\n",
       "4                  data manager       195      3.849951   8.205128\n",
       "5  data (warehouse)|(lakehouse)        79      1.559724   8.860759\n",
       "6                   ai engineer       101      1.994077   1.980198"
      ]
     },
     "execution_count": 54,
     "metadata": {},
     "output_type": "execute_result"
    }
   ],
   "source": [
    "counts['assoc_pct'] = assoc_pct['Associate percentage']\n",
    "counts"
   ]
  },
  {
   "cell_type": "code",
   "execution_count": 55,
   "metadata": {},
   "outputs": [],
   "source": [
    "counts['job_name'] = counts['job_name'].map(lambda x: x.capitalize().replace('(warehouse)|(lakehouse)', 'warehouse'))"
   ]
  },
  {
   "cell_type": "code",
   "execution_count": 56,
   "metadata": {},
   "outputs": [],
   "source": [
    "counts.to_csv('data/aggregate.csv')"
   ]
  }
 ],
 "metadata": {
  "kernelspec": {
   "display_name": "Python 3 (ipykernel)",
   "language": "python",
   "name": "python3"
  },
  "language_info": {
   "codemirror_mode": {
    "name": "ipython",
    "version": 3
   },
   "file_extension": ".py",
   "mimetype": "text/x-python",
   "name": "python",
   "nbconvert_exporter": "python",
   "pygments_lexer": "ipython3",
   "version": "3.11.6"
  }
 },
 "nbformat": 4,
 "nbformat_minor": 4
}
